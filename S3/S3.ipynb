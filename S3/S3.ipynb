{
 "cells": [
  {
   "cell_type": "code",
   "execution_count": null,
   "metadata": {},
   "outputs": [],
   "source": [
    "import boto3\n",
    "\n",
    "# Initialize AWS S3 clients for the source and destination regions\n",
    "source_region = 'us-east-1'\n",
    "destination_region = 'us-west-2'\n",
    "\n",
    "source_s3 = boto3.client('s3', region_name=source_region)\n",
    "destination_s3 = boto3.client('s3', region_name=destination_region)\n",
    "\n",
    "# Specify source and destination buckets and file paths\n",
    "source_bucket = 'source-bucket'\n",
    "destination_bucket = 'destination-bucket'\n",
    "file_key = 'path/to/file.txt'\n",
    "\n",
    "# Copy the file from source to destination\n",
    "copy_source = {'Bucket': source_bucket, 'Key': file_key}\n",
    "destination_s3.copy_object(CopySource=copy_source, Bucket=destination_bucket, Key=file_key)\n"
   ]
  }
 ],
 "metadata": {
  "language_info": {
   "name": "python"
  },
  "orig_nbformat": 4
 },
 "nbformat": 4,
 "nbformat_minor": 2
}
