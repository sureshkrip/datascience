{
 "cells": [
  {
   "cell_type": "code",
   "execution_count": null,
   "metadata": {},
   "outputs": [],
   "source": [
    "from sagemaker.processing import ScriptProcessor\n",
    "\n",
    "# Initialize the ScriptProcessor\n",
    "script_processor = ScriptProcessor(command=[\"python\"],\n",
    "                                   script_uri=\"s3://path/to/your/custom_script.py\",\n",
    "                                   role=\"arn:aws:iam::123456789012:role/service-role/MySageMakerRole\",\n",
    "                                   instance_count=1,\n",
    "                                   instance_type=\"ml.m5.large\")\n",
    "\n",
    "# Specify input and output data channels\n",
    "input_data = \"s3://path/to/input_data/\"\n",
    "output_data = \"s3://path/to/output_data/\"\n",
    "\n",
    "# Run the processing job\n",
    "script_processor.run(code=\"s3://path/to/your/custom_script.py\",\n",
    "                      inputs=[input_data],\n",
    "                      outputs=[output_data])\n"
   ]
  }
 ],
 "metadata": {
  "language_info": {
   "name": "python"
  },
  "orig_nbformat": 4
 },
 "nbformat": 4,
 "nbformat_minor": 2
}
