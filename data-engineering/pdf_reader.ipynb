{
 "cells": [
  {
   "cell_type": "code",
   "execution_count": 14,
   "metadata": {},
   "outputs": [
    {
     "ename": "FileNotFoundError",
     "evalue": "[Errno 2] No such file or directory: '/mnt/data/guide-5.pdf'",
     "output_type": "error",
     "traceback": [
      "\u001b[0;31m---------------------------------------------------------------------------\u001b[0m",
      "\u001b[0;31mFileNotFoundError\u001b[0m                         Traceback (most recent call last)",
      "\u001b[1;32m/home/suresh/github/datascience/data-engineering/pdf_reader.ipynb Cell 1\u001b[0m line \u001b[0;36m2\n\u001b[1;32m     <a href='vscode-notebook-cell://wsl%2Bubuntu-20.04/home/suresh/github/datascience/data-engineering/pdf_reader.ipynb#W0sdnNjb2RlLXJlbW90ZQ%3D%3D?line=19'>20</a>\u001b[0m     \u001b[39mreturn\u001b[39;00m extracted_text\n\u001b[1;32m     <a href='vscode-notebook-cell://wsl%2Bubuntu-20.04/home/suresh/github/datascience/data-engineering/pdf_reader.ipynb#W0sdnNjb2RlLXJlbW90ZQ%3D%3D?line=21'>22</a>\u001b[0m \u001b[39m# Extracting text from the uploaded PDF\u001b[39;00m\n\u001b[0;32m---> <a href='vscode-notebook-cell://wsl%2Bubuntu-20.04/home/suresh/github/datascience/data-engineering/pdf_reader.ipynb#W0sdnNjb2RlLXJlbW90ZQ%3D%3D?line=22'>23</a>\u001b[0m extracted_text \u001b[39m=\u001b[39m extract_text_ignore_extractable(pdf_path)\n\u001b[1;32m     <a href='vscode-notebook-cell://wsl%2Bubuntu-20.04/home/suresh/github/datascience/data-engineering/pdf_reader.ipynb#W0sdnNjb2RlLXJlbW90ZQ%3D%3D?line=23'>24</a>\u001b[0m \u001b[39mprint\u001b[39m(extracted_text[:\u001b[39m1000\u001b[39m])  \u001b[39m# Displaying the first 1000 characters for a quick preview\u001b[39;00m\n",
      "\u001b[1;32m/home/suresh/github/datascience/data-engineering/pdf_reader.ipynb Cell 1\u001b[0m line \u001b[0;36m1\n\u001b[1;32m     <a href='vscode-notebook-cell://wsl%2Bubuntu-20.04/home/suresh/github/datascience/data-engineering/pdf_reader.ipynb#W0sdnNjb2RlLXJlbW90ZQ%3D%3D?line=9'>10</a>\u001b[0m extracted_text \u001b[39m=\u001b[39m \u001b[39m\"\u001b[39m\u001b[39m\"\u001b[39m\n\u001b[1;32m     <a href='vscode-notebook-cell://wsl%2Bubuntu-20.04/home/suresh/github/datascience/data-engineering/pdf_reader.ipynb#W0sdnNjb2RlLXJlbW90ZQ%3D%3D?line=11'>12</a>\u001b[0m \u001b[39m# Open the PDF file\u001b[39;00m\n\u001b[0;32m---> <a href='vscode-notebook-cell://wsl%2Bubuntu-20.04/home/suresh/github/datascience/data-engineering/pdf_reader.ipynb#W0sdnNjb2RlLXJlbW90ZQ%3D%3D?line=12'>13</a>\u001b[0m \u001b[39mwith\u001b[39;00m \u001b[39mopen\u001b[39;49m(pdf_path, \u001b[39m'\u001b[39;49m\u001b[39mrb\u001b[39;49m\u001b[39m'\u001b[39;49m) \u001b[39mas\u001b[39;00m file:\n\u001b[1;32m     <a href='vscode-notebook-cell://wsl%2Bubuntu-20.04/home/suresh/github/datascience/data-engineering/pdf_reader.ipynb#W0sdnNjb2RlLXJlbW90ZQ%3D%3D?line=13'>14</a>\u001b[0m     \u001b[39m# Iterate over all pages, ignoring the extractability\u001b[39;00m\n\u001b[1;32m     <a href='vscode-notebook-cell://wsl%2Bubuntu-20.04/home/suresh/github/datascience/data-engineering/pdf_reader.ipynb#W0sdnNjb2RlLXJlbW90ZQ%3D%3D?line=14'>15</a>\u001b[0m     \u001b[39mfor\u001b[39;00m page \u001b[39min\u001b[39;00m PDFPage\u001b[39m.\u001b[39mget_pages(file, check_extractable\u001b[39m=\u001b[39m\u001b[39mFalse\u001b[39;00m):\n\u001b[1;32m     <a href='vscode-notebook-cell://wsl%2Bubuntu-20.04/home/suresh/github/datascience/data-engineering/pdf_reader.ipynb#W0sdnNjb2RlLXJlbW90ZQ%3D%3D?line=15'>16</a>\u001b[0m         \u001b[39m# Extract text from the current page\u001b[39;00m\n\u001b[1;32m     <a href='vscode-notebook-cell://wsl%2Bubuntu-20.04/home/suresh/github/datascience/data-engineering/pdf_reader.ipynb#W0sdnNjb2RlLXJlbW90ZQ%3D%3D?line=16'>17</a>\u001b[0m         page_text \u001b[39m=\u001b[39m extract_text(page)\n",
      "File \u001b[0;32m~/miniconda3/envs/ai311/lib/python3.11/site-packages/IPython/core/interactiveshell.py:286\u001b[0m, in \u001b[0;36m_modified_open\u001b[0;34m(file, *args, **kwargs)\u001b[0m\n\u001b[1;32m    279\u001b[0m \u001b[39mif\u001b[39;00m file \u001b[39min\u001b[39;00m {\u001b[39m0\u001b[39m, \u001b[39m1\u001b[39m, \u001b[39m2\u001b[39m}:\n\u001b[1;32m    280\u001b[0m     \u001b[39mraise\u001b[39;00m \u001b[39mValueError\u001b[39;00m(\n\u001b[1;32m    281\u001b[0m         \u001b[39mf\u001b[39m\u001b[39m\"\u001b[39m\u001b[39mIPython won\u001b[39m\u001b[39m'\u001b[39m\u001b[39mt let you open fd=\u001b[39m\u001b[39m{\u001b[39;00mfile\u001b[39m}\u001b[39;00m\u001b[39m by default \u001b[39m\u001b[39m\"\u001b[39m\n\u001b[1;32m    282\u001b[0m         \u001b[39m\"\u001b[39m\u001b[39mas it is likely to crash IPython. If you know what you are doing, \u001b[39m\u001b[39m\"\u001b[39m\n\u001b[1;32m    283\u001b[0m         \u001b[39m\"\u001b[39m\u001b[39myou can use builtins\u001b[39m\u001b[39m'\u001b[39m\u001b[39m open.\u001b[39m\u001b[39m\"\u001b[39m\n\u001b[1;32m    284\u001b[0m     )\n\u001b[0;32m--> 286\u001b[0m \u001b[39mreturn\u001b[39;00m io_open(file, \u001b[39m*\u001b[39;49margs, \u001b[39m*\u001b[39;49m\u001b[39m*\u001b[39;49mkwargs)\n",
      "\u001b[0;31mFileNotFoundError\u001b[0m: [Errno 2] No such file or directory: '/mnt/data/guide-5.pdf'"
     ]
    }
   ],
   "source": [
    "from pdfminer.high_level import extract_text\n",
    "from pdfminer.pdfpage import PDFPage\n",
    "\n",
    "# Path to the uploaded PDF file\n",
    "pdf_path = '/mnt/data/guide-5.pdf'\n",
    "\n",
    "# Function to extract text from the PDF\n",
    "def extract_text_ignore_extractable(pdf_path):\n",
    "    # Create a string to store the extracted text\n",
    "    extracted_text = \"\"\n",
    "\n",
    "    # Open the PDF file\n",
    "    with open(pdf_path, 'rb') as file:\n",
    "        # Iterate over all pages, ignoring the extractability\n",
    "        for page in PDFPage.get_pages(file, check_extractable=False):\n",
    "            # Extract text from the current page\n",
    "            page_text = extract_text(page)\n",
    "            extracted_text += page_text + \"\\n\"\n",
    "\n",
    "    return extracted_text\n",
    "\n",
    "# Extracting text from the uploaded PDF\n",
    "extracted_text = extract_text_ignore_extractable(pdf_path)\n",
    "print(extracted_text[:1000])  # Displaying the first 1000 characters for a quick preview\n"
   ]
  },
  {
   "cell_type": "code",
   "execution_count": null,
   "metadata": {},
   "outputs": [
    {
     "name": "stdout",
     "output_type": "stream",
     "text": [
      "Page 1:\n",
      "\f\n",
      "\n",
      "Page 2:\n",
      "\f\n",
      "\n",
      "\n"
     ]
    }
   ],
   "source": [
    "from pdfminer.high_level import extract_text\n",
    "from pdfminer.pdfpage import PDFPage\n",
    "\n",
    "# Path to the uploaded PDF file\n",
    "pdf_path = 'freddiemac-seller-servicing-2.pdf'\n",
    "\n",
    "# Function to extract text from the PDF, including non-extractable text\n",
    "def extract_text_ignore_extractable(pdf_path):\n",
    "    extracted_text = \"\"\n",
    "    with open(pdf_path, 'rb') as file:\n",
    "        # Get total number of pages\n",
    "        total_pages = len(list(PDFPage.get_pages(file, check_extractable=False)))\n",
    "\n",
    "    # Extract text from each page\n",
    "    for page_number in range(total_pages):\n",
    "        page_text = extract_text(pdf_path, page_numbers=[page_number])\n",
    "        extracted_text += f\"Page {page_number + 1}:\\n{page_text}\\n\\n\"\n",
    "\n",
    "    return extracted_text\n",
    "\n",
    "# Extracting text from the uploaded PDF\n",
    "extracted_text = extract_text_ignore_extractable(pdf_path)\n",
    "print(extracted_text[:1000])  # Displaying the first 1000 characters for a quick preview\n"
   ]
  },
  {
   "cell_type": "code",
   "execution_count": 15,
   "metadata": {},
   "outputs": [
    {
     "name": "stdout",
     "output_type": "stream",
     "text": [
      "Page 1:\n",
      "a\"\n",
      "Freddie Mac\n",
      "\n",
      "Single-Family\n",
      "\n",
      "Seller/Servicer Guide\n",
      "\n",
      "PDF\n",
      "\n",
      " \n",
      "\n",
      "Historical Guide Snapshot PDF as published on March 17, 2022\n",
      "\n",
      " \n",
      "\n",
      "This is a PDF of the Freddie Mac Single-Family Seller/Servicer Guide (“Guide”) chapters as of March 17, 2022. This\n",
      "comprehensive file contains all of the Guide chapters.\n",
      "\n",
      "Freddie Mac provides this Guide PDF as a convenience to its Seller/Servicers. It is not the most current version of the\n",
      "Guide (see below for how to access the current official electronic version of the Guide, which includes the Guide forms,\n",
      "exhibits, Glossary and Directory).\n",
      "\n",
      "Compilation of Guide Chapters\n",
      "\n",
      "This PDF is a compilation of the separate Guide chapters. The footers are updated by chapter and reflect the date of the\n",
      "last time that each specific chapter was updated. Therefore, while this Guide PDF includes all Guide chapters as of\n",
      "March 17, 2022, only the chapters that were updated on March 17, 2022 have that date in the footer.\n",
      "\n",
      "Certain sections within the segment may have:\n",
      "\n",
      "e\n"
     ]
    }
   ],
   "source": [
    "import pytesseract\n",
    "from pdf2image import convert_from_path\n",
    "\n",
    "# Path to your PDF file\n",
    "pdf_path = 'freddiemac-seller-servicing-2.pdf'\n",
    "\n",
    "# Convert PDF to list of images\n",
    "pages = convert_from_path(pdf_path, 300)\n",
    "\n",
    "# Apply OCR to each image\n",
    "extracted_text = \"\"\n",
    "\n",
    "\n",
    "for i, page in enumerate(pages):\n",
    "    text = pytesseract.image_to_string(page)\n",
    "    extracted_text += f\"Page {i+1}:\\n{text}\\n\\n\"\n",
    "\n",
    "# Displaying the first 1000 characters of the extracted text\n",
    "print(extracted_text[2000:])\n",
    "\n"
   ]
  },
  {
   "cell_type": "code",
   "execution_count": 17,
   "metadata": {},
   "outputs": [
    {
     "name": "stdout",
     "output_type": "stream",
     "text": [
      "ning specific\n",
      "Guide changes with corresponding effective dates, as posted on the AllRegs web site.\n",
      "\f\n",
      "\n",
      "Page 2:\n",
      "Chapter 1101: The Guide\n",
      "\n",
      "1101.1: Introduction to the Guide (03/02/16)\n",
      "\n",
      "This section provides an overview of the content and organization of the Guide.\n",
      "The Guide consists of Freddie Mac’s requirements relating to the purchase, sale, and Servicing\n",
      "of Mortgages. The Guide’s structure reflects how and when Seller/Servicers interact with\n",
      "Freddie Mac and is organized to aid in locating the provisions related to the Seller/Servicer’s\n",
      "daily workflow.\n",
      "(a) Segments\n",
      "The Guide is grouped into three segments:\n",
      "m Freddie Mac Seller/Servicer Relationship\n",
      "mw Selling\n",
      "m Servicing\n",
      "The Guide’s design places the provisions applicable to all Seller/Servicers in one central\n",
      "location (Freddie Mac Seller/Servicer Relationship), and then differentiates between those\n",
      "for selling and Servicing. Although the Guide has distinct Selling and Servicing Segments,\n",
      "there may be information and/or cross references for Servicers in the Selling Segment and for\n",
      "Sellers in the Servicing Segment.\n",
      "Additionally, the Guide contains exhibits, forms, the Glossary and the Directory.\n",
      "\n",
      "(b) Series and topics\n",
      "\n",
      "Within each segment there are three distinct series of topics relating to that segment, totaling\n",
      "nine series. The series of topics within each segment are described below.\n",
      "\n",
      "Freddie Mac Single-Family Seller/Servicer Guide Chapter 1101\n",
      "As of 12/07/20 Page 1101-1\n",
      "\f\n",
      "\n",
      "\n"
     ]
    }
   ],
   "source": [
    "print(extracted_text[2000:])"
   ]
  },
  {
   "cell_type": "code",
   "execution_count": null,
   "metadata": {},
   "outputs": [],
   "source": [
    "import boto3\n",
    "\n",
    "# Initialize a boto3 client for Textract\n",
    "textract = boto3.client('textract', region_name='your-region')\n",
    "\n",
    "# Replace 'your-bucket' with the name of your S3 bucket and 'your-document.pdf' with your file name\n",
    "response = textract.analyze_document(\n",
    "    Document={\n",
    "        'S3Object': {\n",
    "            'Bucket': 'your-bucket',\n",
    "            'Name': 'your-document.pdf'\n",
    "        }\n",
    "    },\n",
    "    FeatureTypes=[\"TABLES\", \"FORMS\"]\n",
    ")\n",
    "\n",
    "# Extract the text\n",
    "for item in response['Blocks']:\n",
    "    if item['BlockType'] == 'LINE':\n",
    "        print(item['Text'])\n"
   ]
  },
  {
   "cell_type": "code",
   "execution_count": 7,
   "metadata": {},
   "outputs": [
    {
     "name": "stdout",
     "output_type": "stream",
     "text": [
      "\n"
     ]
    }
   ],
   "source": [
    "import fitz  # PyMuPDF\n",
    "\n",
    "pdf_path = 'freddiemac-seller-servicing-2.pdf'\n",
    "\n",
    "def extract_text_with_pymupdf(pdf_path):\n",
    "    doc = fitz.open(pdf_path)\n",
    "    extracted_text = \"\"\n",
    "\n",
    "    for page in doc:\n",
    "        extracted_text += page.get_text()\n",
    "\n",
    "    doc.close()\n",
    "    return extracted_text\n",
    "\n",
    "text = extract_text_with_pymupdf(pdf_path)\n",
    "print(text)\n"
   ]
  },
  {
   "cell_type": "code",
   "execution_count": null,
   "metadata": {},
   "outputs": [],
   "source": []
  }
 ],
 "metadata": {
  "kernelspec": {
   "display_name": "ai311",
   "language": "python",
   "name": "python3"
  },
  "language_info": {
   "codemirror_mode": {
    "name": "ipython",
    "version": 3
   },
   "file_extension": ".py",
   "mimetype": "text/x-python",
   "name": "python",
   "nbconvert_exporter": "python",
   "pygments_lexer": "ipython3",
   "version": "3.11.5"
  }
 },
 "nbformat": 4,
 "nbformat_minor": 2
}
