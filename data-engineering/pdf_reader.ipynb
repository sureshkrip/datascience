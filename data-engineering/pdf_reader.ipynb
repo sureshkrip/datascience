{
 "cells": [
  {
   "cell_type": "code",
   "execution_count": null,
   "metadata": {},
   "outputs": [],
   "source": [
    "from pdfminer.high_level import extract_text\n",
    "from pdfminer.pdfpage import PDFPage\n",
    "\n",
    "# Path to the uploaded PDF file\n",
    "pdf_path = '/mnt/data/guide-5.pdf'\n",
    "\n",
    "# Function to extract text from the PDF\n",
    "def extract_text_ignore_extractable(pdf_path):\n",
    "    # Create a string to store the extracted text\n",
    "    extracted_text = \"\"\n",
    "\n",
    "    # Open the PDF file\n",
    "    with open(pdf_path, 'rb') as file:\n",
    "        # Iterate over all pages, ignoring the extractability\n",
    "        for page in PDFPage.get_pages(file, check_extractable=False):\n",
    "            # Extract text from the current page\n",
    "            page_text = extract_text(page)\n",
    "            extracted_text += page_text + \"\\n\"\n",
    "\n",
    "    return extracted_text\n",
    "\n",
    "# Extracting text from the uploaded PDF\n",
    "extracted_text = extract_text_ignore_extractable(pdf_path)\n",
    "print(extracted_text[:1000])  # Displaying the first 1000 characters for a quick preview\n"
   ]
  },
  {
   "cell_type": "code",
   "execution_count": null,
   "metadata": {},
   "outputs": [],
   "source": [
    "from pdfminer.high_level import extract_text\n",
    "from pdfminer.pdfpage import PDFPage\n",
    "\n",
    "# Path to the uploaded PDF file\n",
    "pdf_path = '/mnt/data/guide-5.pdf'\n",
    "\n",
    "# Function to extract text from the PDF, including non-extractable text\n",
    "def extract_text_ignore_extractable(pdf_path):\n",
    "    extracted_text = \"\"\n",
    "    with open(pdf_path, 'rb') as file:\n",
    "        # Get total number of pages\n",
    "        total_pages = len(list(PDFPage.get_pages(file, check_extractable=False)))\n",
    "\n",
    "    # Extract text from each page\n",
    "    for page_number in range(total_pages):\n",
    "        page_text = extract_text(pdf_path, page_numbers=[page_number])\n",
    "        extracted_text += f\"Page {page_number + 1}:\\n{page_text}\\n\\n\"\n",
    "\n",
    "    return extracted_text\n",
    "\n",
    "# Extracting text from the uploaded PDF\n",
    "extracted_text = extract_text_ignore_extractable(pdf_path)\n",
    "print(extracted_text[:1000])  # Displaying the first 1000 characters for a quick preview\n"
   ]
  }
 ],
 "metadata": {
  "language_info": {
   "name": "python"
  }
 },
 "nbformat": 4,
 "nbformat_minor": 2
}
