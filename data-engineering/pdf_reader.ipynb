{
 "cells": [
  {
   "cell_type": "code",
   "execution_count": null,
   "metadata": {},
   "outputs": [],
   "source": [
    "from pdfminer.high_level import extract_text\n",
    "from pdfminer.pdfpage import PDFPage\n",
    "\n",
    "# Path to the uploaded PDF file\n",
    "pdf_path = '/mnt/data/guide-5.pdf'\n",
    "\n",
    "# Function to extract text from the PDF\n",
    "def extract_text_ignore_extractable(pdf_path):\n",
    "    # Create a string to store the extracted text\n",
    "    extracted_text = \"\"\n",
    "\n",
    "    # Open the PDF file\n",
    "    with open(pdf_path, 'rb') as file:\n",
    "        # Iterate over all pages, ignoring the extractability\n",
    "        for page in PDFPage.get_pages(file, check_extractable=False):\n",
    "            # Extract text from the current page\n",
    "            page_text = extract_text(page)\n",
    "            extracted_text += page_text + \"\\n\"\n",
    "\n",
    "    return extracted_text\n",
    "\n",
    "# Extracting text from the uploaded PDF\n",
    "extracted_text = extract_text_ignore_extractable(pdf_path)\n",
    "print(extracted_text[:1000])  # Displaying the first 1000 characters for a quick preview\n"
   ]
  },
  {
   "cell_type": "code",
   "execution_count": null,
   "metadata": {},
   "outputs": [],
   "source": [
    "from pdfminer.high_level import extract_text\n",
    "from pdfminer.pdfpage import PDFPage\n",
    "\n",
    "# Path to the uploaded PDF file\n",
    "pdf_path = '/mnt/data/guide-5.pdf'\n",
    "\n",
    "# Function to extract text from the PDF, including non-extractable text\n",
    "def extract_text_ignore_extractable(pdf_path):\n",
    "    extracted_text = \"\"\n",
    "    with open(pdf_path, 'rb') as file:\n",
    "        # Get total number of pages\n",
    "        total_pages = len(list(PDFPage.get_pages(file, check_extractable=False)))\n",
    "\n",
    "    # Extract text from each page\n",
    "    for page_number in range(total_pages):\n",
    "        page_text = extract_text(pdf_path, page_numbers=[page_number])\n",
    "        extracted_text += f\"Page {page_number + 1}:\\n{page_text}\\n\\n\"\n",
    "\n",
    "    return extracted_text\n",
    "\n",
    "# Extracting text from the uploaded PDF\n",
    "extracted_text = extract_text_ignore_extractable(pdf_path)\n",
    "print(extracted_text[:1000])  # Displaying the first 1000 characters for a quick preview\n"
   ]
  },
  {
   "cell_type": "code",
   "execution_count": null,
   "metadata": {},
   "outputs": [],
   "source": [
    "import pytesseract\n",
    "from pdf2image import convert_from_path\n",
    "\n",
    "# Path to your PDF file\n",
    "pdf_path = '/mnt/data/guide-5.pdf'\n",
    "\n",
    "# Convert PDF to list of images\n",
    "pages = convert_from_path(pdf_path, 300)\n",
    "\n",
    "# Apply OCR to each image\n",
    "extracted_text = \"\"\n",
    "for i, page in enumerate(pages):\n",
    "    text = pytesseract.image_to_string(page)\n",
    "    extracted_text += f\"Page {i+1}:\\n{text}\\n\\n\"\n",
    "\n",
    "# Displaying the first 1000 characters of the extracted text\n",
    "print(extracted_text[:1000])\n",
    "\n",
    "pip install pytesseract pdf2image"
   ]
  }
 ],
 "metadata": {
  "language_info": {
   "name": "python"
  }
 },
 "nbformat": 4,
 "nbformat_minor": 2
}
