{
 "cells": [
  {
   "cell_type": "code",
   "execution_count": 1,
   "metadata": {},
   "outputs": [
    {
     "name": "stdout",
     "output_type": "stream",
     "text": [
      "Hello, Alice!\n",
      "Hello, Alice!\n",
      "Hello, Alice!\n"
     ]
    }
   ],
   "source": [
    "def repeat(times):\n",
    "    def decorator(func):\n",
    "        def wrapper(*args, **kwargs):\n",
    "            for _ in range(times):\n",
    "                result = func(*args, **kwargs)\n",
    "            return result\n",
    "        return wrapper\n",
    "    return decorator\n",
    "\n",
    "@repeat(times=3)\n",
    "def say_hello(name):\n",
    "    print(f\"Hello, {name}!\")\n",
    "\n",
    "say_hello(\"Alice\")\n"
   ]
  },
  {
   "cell_type": "code",
   "execution_count": null,
   "metadata": {},
   "outputs": [],
   "source": [
    "520713654638.dkr.ecr.us-east-1.amazonaws.com/sagemaker-base-python-310-v1\n"
   ]
  },
  {
   "cell_type": "code",
   "execution_count": 1,
   "metadata": {},
   "outputs": [
    {
     "name": "stdout",
     "output_type": "stream",
     "text": [
      "Original Data: john.doe@example.com\n",
      "Encrypted Data: ouzdzOHzK2EuFcYA1jOMZ1LtdasJlHGKUOhofg1tte4=\n",
      "Decrypted Data: john.doe@example.com\n"
     ]
    }
   ],
   "source": [
    "from Crypto.Cipher import AES\n",
    "from Crypto.Util.Padding import pad, unpad\n",
    "import base64\n",
    "\n",
    "# Key should be of length 16, 24, or 32 bytes\n",
    "key = b'your_16byte_key!'\n",
    "\n",
    "def encrypt_data(data):\n",
    "    cipher = AES.new(key, AES.MODE_ECB)\n",
    "    encrypted_data = cipher.encrypt(pad(data.encode(), AES.block_size))\n",
    "    return base64.b64encode(encrypted_data).decode()\n",
    "\n",
    "def decrypt_data(encrypted_data):\n",
    "    cipher = AES.new(key, AES.MODE_ECB)\n",
    "    decrypted_data = unpad(cipher.decrypt(base64.b64decode(encrypted_data)), AES.block_size).decode()\n",
    "    return decrypted_data\n",
    "\n",
    "# Example\n",
    "data_to_encrypt = \"john.doe@example.com\"\n",
    "print(f\"Original Data: {data_to_encrypt}\")\n",
    "\n",
    "encrypted_data = encrypt_data(data_to_encrypt)\n",
    "print(f\"Encrypted Data: {encrypted_data}\")\n",
    "\n",
    "decrypted_data = decrypt_data(encrypted_data)\n",
    "print(f\"Decrypted Data: {decrypted_data}\")\n"
   ]
  },
  {
   "cell_type": "code",
   "execution_count": null,
   "metadata": {},
   "outputs": [],
   "source": [
    "pip install pycryptodome pandas\n"
   ]
  },
  {
   "cell_type": "code",
   "execution_count": null,
   "metadata": {},
   "outputs": [],
   "source": [
    "import pandas as pd\n",
    "from Crypto.Cipher import AES\n",
    "from Crypto.Util.Padding import pad, unpad\n",
    "import base64\n",
    "\n",
    "# Key should be of length 16, 24, or 32 bytes\n",
    "key = b'your_16byte_key!'\n",
    "\n",
    "def encrypt_data(data):\n",
    "    cipher = AES.new(key, AES.MODE_ECB)\n",
    "    encrypted_data = cipher.encrypt(pad(data.encode(), AES.block_size))\n",
    "    return base64.b64encode(encrypted_data).decode()\n",
    "\n",
    "def decrypt_data(encrypted_data):\n",
    "    cipher = AES.new(key, AES.MODE_ECB)\n",
    "    decrypted_data = unpad(cipher.decrypt(base64.b64decode(encrypted_data)), AES.block_size).decode()\n",
    "    return decrypted_data\n",
    "\n",
    "# Sample DataFrame\n",
    "df = pd.DataFrame({\n",
    "    'name': ['Alice', 'Bob', 'Charlie'],\n",
    "    'email': ['alice@example.com', 'bob@example.com', 'charlie@example.com']\n",
    "})\n",
    "\n",
    "print(\"Original DataFrame:\")\n",
    "print(df)\n",
    "\n",
    "# Encrypt the email column\n",
    "df['encrypted_email'] = df['email'].apply(encrypt_data)\n",
    "\n",
    "print(\"\\nDataFrame with Encrypted Email:\")\n",
    "print(df)\n",
    "\n",
    "# If you want to decrypt it later\n",
    "df['decrypted_email'] = df['encrypted_email'].apply(decrypt_data)\n",
    "\n",
    "print(\"\\nDataFrame with Decrypted Email:\")\n",
    "print(df)\n"
   ]
  }
 ],
 "metadata": {
  "kernelspec": {
   "display_name": "Python 3",
   "language": "python",
   "name": "python3"
  },
  "language_info": {
   "codemirror_mode": {
    "name": "ipython",
    "version": 3
   },
   "file_extension": ".py",
   "mimetype": "text/x-python",
   "name": "python",
   "nbconvert_exporter": "python",
   "pygments_lexer": "ipython3",
   "version": "3.11.5"
  },
  "orig_nbformat": 4
 },
 "nbformat": 4,
 "nbformat_minor": 2
}
