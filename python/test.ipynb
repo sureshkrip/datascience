{
 "cells": [
  {
   "cell_type": "code",
   "execution_count": null,
   "metadata": {},
   "outputs": [],
   "source": [
    "import pandas as pd\n",
    "from sklearn.metrics import accuracy_score, top_k_accuracy_score\n",
    "\n",
    "# Sample DataFrame\n",
    "data = {\n",
    "    'true_labels': ['cat', 'dog', 'cat', 'dog', 'cat', 'dog'],\n",
    "    'predicted_label1': ['cat', 'cat', 'dog', 'dog', 'cat', 'cat'],\n",
    "    'predicted_label2': ['dog', 'dog', 'cat', 'cat', 'dog', 'dog'],\n",
    "    'predicted_label3': ['rabbit', 'fish', 'dog', 'cat', 'rabbit', 'fish']\n",
    "}\n",
    "\n",
    "df = pd.DataFrame(data)\n",
    "\n",
    "# Define the value of 'k' for top-k accuracy\n",
    "k = 2  # Change this value to the desired 'k'\n",
    "\n",
    "# Combine predicted label columns into a single list of predicted labels\n",
    "df['predicted_labels'] = df.apply(lambda row: [row['predicted_label1'], row['predicted_label2'], row['predicted_label3']], axis=1)\n",
    "\n",
    "# Calculate top-k accuracy\n",
    "df['is_correct'] = df.apply(lambda row: row['true_labels'] in row['predicted_labels'], axis=1)\n",
    "accuracy = accuracy_score(df['true_labels'], df['predicted_labels'])\n",
    "top_k_accuracy = top_k_accuracy_score(df['true_labels'], df['predicted_labels'], k=k)\n",
    "\n",
    "print(f'Accuracy: {accuracy:.2f}')\n",
    "print(f'Top-{k} Accuracy: {top_k_accuracy:.2f}')\n"
   ]
  }
 ],
 "metadata": {
  "language_info": {
   "name": "python"
  },
  "orig_nbformat": 4
 },
 "nbformat": 4,
 "nbformat_minor": 2
}
