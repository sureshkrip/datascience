{
 "cells": [
  {
   "cell_type": "code",
   "execution_count": null,
   "metadata": {},
   "outputs": [],
   "source": [
    "!gunzip yourfile.json.gz\n",
    "import json\n",
    "\n",
    "with open('yourfile.json', 'r') as json_file:\n",
    "    data = json.load(json_file)\n",
    "import csv\n",
    "\n",
    "# Your JSON data as a list of dictionaries\n",
    "data = [\n",
    "    {\"key1\": \"value1\", \"key2\": \"value2\"},\n",
    "    {\"key1\": \"value3\", \"key2\": \"value4\"},\n",
    "    # Add more dictionaries as needed\n",
    "]\n",
    "\n",
    "# Define the CSV file name\n",
    "csv_file = 'output.csv'\n",
    "\n",
    "# Open the CSV file for writing\n",
    "with open(csv_file, 'w', newline='') as csvfile:\n",
    "    # Define the CSV fieldnames based on your data keys\n",
    "    fieldnames = ['key1', 'key2']\n",
    "\n",
    "    # Create a CSV writer\n",
    "    writer = csv.DictWriter(csvfile, fieldnames=fieldnames)\n",
    "\n",
    "    # Write the header row\n",
    "    writer.writeheader()\n",
    "\n",
    "    # Write data rows\n",
    "    for row in data:\n",
    "        writer.writerow(row)\n"
   ]
  },
  {
   "cell_type": "code",
   "execution_count": null,
   "metadata": {},
   "outputs": [],
   "source": [
    "import gzip\n",
    "import shutil\n",
    "\n",
    "# Input and output file names\n",
    "input_file = 'yourfile.json.gz'\n",
    "output_file = 'yourfile.json'\n",
    "\n",
    "# Open the input gzipped file in binary read mode\n",
    "with gzip.open(input_file, 'rb') as f_in:\n",
    "    # Open the output file in binary write mode\n",
    "    with open(output_file, 'wb') as f_out:\n",
    "        # Copy the contents from the gzipped file to the output file\n",
    "        shutil.copyfileobj(f_in, f_out)\n",
    "\n",
    "print(f'File \"{input_file}\" has been decompressed to \"{output_file}\".')\n"
   ]
  }
 ],
 "metadata": {
  "language_info": {
   "name": "python"
  },
  "orig_nbformat": 4
 },
 "nbformat": 4,
 "nbformat_minor": 2
}
